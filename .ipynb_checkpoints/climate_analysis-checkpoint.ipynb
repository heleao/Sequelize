{
 "cells": [
  {
   "cell_type": "code",
   "execution_count": 1,
   "metadata": {
    "collapsed": true
   },
   "outputs": [],
   "source": [
    "import sqlalchemy\n",
    "from sqlalchemy.ext.automap import automap_base\n",
    "from sqlalchemy.orm import Session\n",
    "from sqlalchemy import create_engine, inspect, func, text\n",
    "import pandas as pd"
   ]
  },
  {
   "cell_type": "code",
   "execution_count": 2,
   "metadata": {
    "collapsed": true
   },
   "outputs": [],
   "source": [
    "engine = create_engine(\"sqlite:///hawaii.sqlite.sqlite\")"
   ]
  },
  {
   "cell_type": "code",
   "execution_count": 3,
   "metadata": {},
   "outputs": [
    {
     "data": {
      "text/plain": [
       "['measurement', 'station']"
      ]
     },
     "execution_count": 3,
     "metadata": {},
     "output_type": "execute_result"
    }
   ],
   "source": [
    "inspector = inspect(engine)\n",
    "inspector.get_table_names()"
   ]
  },
  {
   "cell_type": "code",
   "execution_count": 4,
   "metadata": {},
   "outputs": [
    {
     "name": "stdout",
     "output_type": "stream",
     "text": [
      "id INTEGER\n",
      "station TEXT\n",
      "date DATETIME\n",
      "prcp FLOAT\n",
      "tobs INTEGER\n"
     ]
    }
   ],
   "source": [
    "columns = inspector.get_columns('measurement')\n",
    "for c in columns:\n",
    "    print(c['name'], c[\"type\"])"
   ]
  },
  {
   "cell_type": "code",
   "execution_count": 5,
   "metadata": {},
   "outputs": [
    {
     "name": "stdout",
     "output_type": "stream",
     "text": [
      "id INTEGER\n",
      "station TEXT\n",
      "name TEXT\n",
      "latitude FLOAT\n",
      "longitude FLOAT\n",
      "elevation FLOAT\n"
     ]
    }
   ],
   "source": [
    "columns = inspector.get_columns('station')\n",
    "for c in columns:\n",
    "    print(c['name'], c[\"type\"])"
   ]
  },
  {
   "cell_type": "code",
   "execution_count": 6,
   "metadata": {
    "collapsed": true
   },
   "outputs": [],
   "source": [
    "Base = automap_base()\n",
    "Base.prepare(engine, reflect=True)\n",
    "Measurement = Base.classes.measurement\n",
    "Station = Base.classes.station"
   ]
  },
  {
   "cell_type": "code",
   "execution_count": 7,
   "metadata": {
    "collapsed": true
   },
   "outputs": [],
   "source": [
    "session = Session(engine)"
   ]
  },
  {
   "cell_type": "code",
   "execution_count": 8,
   "metadata": {
    "collapsed": true
   },
   "outputs": [],
   "source": [
    "raw = session.query(Measurement.date, Measurement.prcp).\\\n",
    "    filter(Measurement.date <= '2017-03-01' ).\\\n",
    "    filter(Measurement.date >= '2016-02-28').\\\n",
    "    order_by(Measurement.date).all()\n"
   ]
  },
  {
   "cell_type": "code",
   "execution_count": 9,
   "metadata": {},
   "outputs": [
    {
     "data": {
      "text/html": [
       "<div>\n",
       "<style scoped>\n",
       "    .dataframe tbody tr th:only-of-type {\n",
       "        vertical-align: middle;\n",
       "    }\n",
       "\n",
       "    .dataframe tbody tr th {\n",
       "        vertical-align: top;\n",
       "    }\n",
       "\n",
       "    .dataframe thead th {\n",
       "        text-align: right;\n",
       "    }\n",
       "</style>\n",
       "<table border=\"1\" class=\"dataframe\">\n",
       "  <thead>\n",
       "    <tr style=\"text-align: right;\">\n",
       "      <th></th>\n",
       "      <th>prcp</th>\n",
       "    </tr>\n",
       "    <tr>\n",
       "      <th>date</th>\n",
       "      <th></th>\n",
       "    </tr>\n",
       "  </thead>\n",
       "  <tbody>\n",
       "    <tr>\n",
       "      <th>2016-02-28</th>\n",
       "      <td>0.0</td>\n",
       "    </tr>\n",
       "    <tr>\n",
       "      <th>2016-02-28</th>\n",
       "      <td>0.0</td>\n",
       "    </tr>\n",
       "    <tr>\n",
       "      <th>2016-02-28</th>\n",
       "      <td>0.0</td>\n",
       "    </tr>\n",
       "    <tr>\n",
       "      <th>2016-02-28</th>\n",
       "      <td>0.0</td>\n",
       "    </tr>\n",
       "    <tr>\n",
       "      <th>2016-02-28</th>\n",
       "      <td>0.0</td>\n",
       "    </tr>\n",
       "  </tbody>\n",
       "</table>\n",
       "</div>"
      ],
      "text/plain": [
       "            prcp\n",
       "date            \n",
       "2016-02-28   0.0\n",
       "2016-02-28   0.0\n",
       "2016-02-28   0.0\n",
       "2016-02-28   0.0\n",
       "2016-02-28   0.0"
      ]
     },
     "execution_count": 9,
     "metadata": {},
     "output_type": "execute_result"
    }
   ],
   "source": [
    "prcp_df = pd.DataFrame(raw)\n",
    "prcp_df= prcp_df.set_index('date')\n",
    "prcp_df.head()"
   ]
  },
  {
   "cell_type": "code",
   "execution_count": 10,
   "metadata": {},
   "outputs": [
    {
     "data": {
      "text/plain": [
       "<matplotlib.axes._subplots.AxesSubplot at 0x1f8fac32c18>"
      ]
     },
     "execution_count": 10,
     "metadata": {},
     "output_type": "execute_result"
    }
   ],
   "source": [
    "prcp_plot = prcp_df.plot()\n",
    "prcp_plot"
   ]
  },
  {
   "cell_type": "code",
   "execution_count": 11,
   "metadata": {},
   "outputs": [
    {
     "data": {
      "text/html": [
       "<div>\n",
       "<style scoped>\n",
       "    .dataframe tbody tr th:only-of-type {\n",
       "        vertical-align: middle;\n",
       "    }\n",
       "\n",
       "    .dataframe tbody tr th {\n",
       "        vertical-align: top;\n",
       "    }\n",
       "\n",
       "    .dataframe thead th {\n",
       "        text-align: right;\n",
       "    }\n",
       "</style>\n",
       "<table border=\"1\" class=\"dataframe\">\n",
       "  <thead>\n",
       "    <tr style=\"text-align: right;\">\n",
       "      <th></th>\n",
       "      <th>prcp</th>\n",
       "    </tr>\n",
       "  </thead>\n",
       "  <tbody>\n",
       "    <tr>\n",
       "      <th>count</th>\n",
       "      <td>2318.000000</td>\n",
       "    </tr>\n",
       "    <tr>\n",
       "      <th>mean</th>\n",
       "      <td>0.174616</td>\n",
       "    </tr>\n",
       "    <tr>\n",
       "      <th>std</th>\n",
       "      <td>0.514882</td>\n",
       "    </tr>\n",
       "    <tr>\n",
       "      <th>min</th>\n",
       "      <td>0.000000</td>\n",
       "    </tr>\n",
       "    <tr>\n",
       "      <th>25%</th>\n",
       "      <td>0.000000</td>\n",
       "    </tr>\n",
       "    <tr>\n",
       "      <th>50%</th>\n",
       "      <td>0.010000</td>\n",
       "    </tr>\n",
       "    <tr>\n",
       "      <th>75%</th>\n",
       "      <td>0.120000</td>\n",
       "    </tr>\n",
       "    <tr>\n",
       "      <th>max</th>\n",
       "      <td>9.640000</td>\n",
       "    </tr>\n",
       "  </tbody>\n",
       "</table>\n",
       "</div>"
      ],
      "text/plain": [
       "              prcp\n",
       "count  2318.000000\n",
       "mean      0.174616\n",
       "std       0.514882\n",
       "min       0.000000\n",
       "25%       0.000000\n",
       "50%       0.010000\n",
       "75%       0.120000\n",
       "max       9.640000"
      ]
     },
     "execution_count": 11,
     "metadata": {},
     "output_type": "execute_result"
    }
   ],
   "source": [
    "prcp_df.describe()"
   ]
  },
  {
   "cell_type": "markdown",
   "metadata": {},
   "source": [
    "### Station Analysis\n"
   ]
  },
  {
   "cell_type": "code",
   "execution_count": 12,
   "metadata": {},
   "outputs": [
    {
     "data": {
      "text/plain": [
       "9"
      ]
     },
     "execution_count": 12,
     "metadata": {},
     "output_type": "execute_result"
    }
   ],
   "source": [
    "# Design a query to calculate the total number of stations.\n",
    "session.query(Station.name).\\\n",
    "    distinct(Station.name).\\\n",
    "    group_by(Station.name).\\\n",
    "    count()\n",
    "    \n"
   ]
  },
  {
   "cell_type": "code",
   "execution_count": 13,
   "metadata": {},
   "outputs": [
    {
     "data": {
      "text/plain": [
       "[('USC00519281', 2772),\n",
       " ('USC00519397', 2724),\n",
       " ('USC00513117', 2709),\n",
       " ('USC00519523', 2669),\n",
       " ('USC00516128', 2612),\n",
       " ('USC00514830', 2202),\n",
       " ('USC00511918', 1979),\n",
       " ('USC00517948', 1372),\n",
       " ('USC00518838', 511)]"
      ]
     },
     "execution_count": 13,
     "metadata": {},
     "output_type": "execute_result"
    }
   ],
   "source": [
    "#Design a query to find the most active stations.\n",
    "session.query(Measurement.station, func.count(Measurement.station)).\\\n",
    "    group_by(Measurement.station).\\\n",
    "    order_by(func.count(Measurement.station).desc()).all()"
   ]
  },
  {
   "cell_type": "markdown",
   "metadata": {},
   "source": [
    "Which station has the highest number of observations? USC00519281"
   ]
  },
  {
   "cell_type": "code",
   "execution_count": 14,
   "metadata": {},
   "outputs": [
    {
     "name": "stdout",
     "output_type": "stream",
     "text": [
      "[('2016-08', 82), ('2016-08', 82), ('2016-07', 81), ('2016-08', 81), ('2016-08', 81), ('2016-08', 81), ('2016-08', 81), ('2016-07', 80), ('2016-07', 80), ('2016-07', 80), ('2016-07', 80), ('2016-07', 80), ('2016-07', 80), ('2016-07', 80), ('2016-08', 80), ('2016-08', 80), ('2016-08', 80), ('2016-08', 80), ('2016-08', 80), ('2016-09', 80), ('2016-09', 80), ('2016-09', 80), ('2016-09', 80), ('2016-09', 80), ('2016-07', 79), ('2016-07', 79), ('2016-07', 79), ('2016-07', 79), ('2016-07', 79), ('2016-08', 79), ('2016-08', 79), ('2016-09', 79), ('2016-09', 79), ('2016-09', 79), ('2016-09', 79), ('2016-09', 79), ('2016-09', 79), ('2016-10', 79), ('2016-10', 79), ('2016-10', 79), ('2016-10', 79), ('2016-10', 79), ('2016-10', 79), ('2016-10', 79), ('2017-02', 79), ('2016-07', 78), ('2016-07', 78), ('2016-07', 78), ('2016-07', 78), ('2016-07', 78), ('2016-08', 78), ('2016-08', 78), ('2016-08', 78), ('2016-08', 78), ('2016-08', 78), ('2016-09', 78), ('2016-09', 78), ('2016-09', 78), ('2016-09', 78), ('2016-09', 78), ('2016-09', 78), ('2016-09', 78), ('2016-09', 78), ('2016-09', 78), ('2016-09', 78), ('2016-10', 78), ('2016-10', 78), ('2016-10', 78), ('2016-10', 78), ('2016-10', 78), ('2016-06', 77), ('2016-06', 77), ('2016-07', 77), ('2016-07', 77), ('2016-08', 77), ('2016-08', 77), ('2016-08', 77), ('2016-08', 77), ('2016-08', 77), ('2016-09', 77), ('2016-09', 77), ('2016-09', 77), ('2016-10', 77), ('2016-10', 77), ('2016-10', 77), ('2016-10', 77), ('2016-10', 77), ('2016-10', 77), ('2016-11', 77), ('2016-11', 77), ('2017-01', 77), ('2016-03', 76), ('2016-03', 76), ('2016-04', 76), ('2016-05', 76), ('2016-05', 76), ('2016-05', 76), ('2016-06', 76), ('2016-06', 76), ('2016-06', 76), ('2016-06', 76), ('2016-07', 76), ('2016-07', 76), ('2016-07', 76), ('2016-07', 76), ('2016-08', 76), ('2016-08', 76), ('2016-08', 76), ('2016-08', 76), ('2016-09', 76), ('2016-09', 76), ('2016-10', 76), ('2016-10', 76), ('2016-10', 76), ('2016-10', 76), ('2016-10', 76), ('2016-11', 76), ('2016-11', 76), ('2016-11', 76), ('2016-12', 76), ('2016-12', 76), ('2016-04', 75), ('2016-04', 75), ('2016-04', 75), ('2016-05', 75), ('2016-05', 75), ('2016-05', 75), ('2016-05', 75), ('2016-05', 75), ('2016-06', 75), ('2016-06', 75), ('2016-06', 75), ('2016-06', 75), ('2016-06', 75), ('2016-06', 75), ('2016-06', 75), ('2016-07', 75), ('2016-07', 75), ('2016-07', 75), ('2016-08', 75), ('2016-08', 75), ('2016-09', 75), ('2016-10', 75), ('2016-10', 75), ('2016-11', 75), ('2016-11', 75), ('2016-11', 75), ('2016-11', 75), ('2016-11', 75), ('2016-11', 75), ('2016-11', 75), ('2016-11', 75), ('2016-11', 75), ('2016-11', 75), ('2016-11', 75), ('2016-12', 75), ('2017-02', 75), ('2017-02', 75), ('2016-03', 74), ('2016-04', 74), ('2016-04', 74), ('2016-04', 74), ('2016-04', 74), ('2016-04', 74), ('2016-04', 74), ('2016-04', 74), ('2016-04', 74), ('2016-04', 74), ('2016-04', 74), ('2016-04', 74), ('2016-05', 74), ('2016-05', 74), ('2016-05', 74), ('2016-05', 74), ('2016-06', 74), ('2016-06', 74), ('2016-07', 74), ('2016-08', 74), ('2016-09', 74), ('2016-09', 74), ('2016-10', 74), ('2016-10', 74), ('2016-11', 74), ('2016-11', 74), ('2016-11', 74), ('2016-11', 74), ('2016-12', 74), ('2016-12', 74), ('2016-12', 74), ('2016-12', 74), ('2016-12', 74), ('2017-01', 74), ('2017-02', 74), ('2016-03', 73), ('2016-04', 73), ('2016-04', 73), ('2016-04', 73), ('2016-04', 73), ('2016-05', 73), ('2016-06', 73), ('2016-06', 73), ('2016-07', 73), ('2016-07', 73), ('2016-08', 73), ('2016-09', 73), ('2016-10', 73), ('2016-10', 73), ('2016-11', 73), ('2016-11', 73), ('2016-11', 73), ('2016-11', 73), ('2016-11', 73), ('2016-12', 73), ('2017-02', 73), ('2017-02', 73), ('2016-03', 72), ('2016-03', 72), ('2016-03', 72), ('2016-03', 72), ('2016-03', 72), ('2016-03', 72), ('2016-04', 72), ('2016-05', 72), ('2016-05', 72), ('2016-05', 72), ('2016-05', 72), ('2016-06', 72), ('2016-06', 72), ('2016-06', 72), ('2016-06', 72), ('2016-06', 72), ('2016-07', 72), ('2016-10', 72), ('2016-12', 72), ('2016-12', 72), ('2016-12', 72), ('2017-01', 72), ('2017-01', 72), ('2017-01', 72), ('2017-01', 72), ('2017-02', 72), ('2016-02', 71), ('2016-03', 71), ('2016-03', 71), ('2016-04', 71), ('2016-04', 71), ('2016-05', 71), ('2016-06', 71), ('2016-06', 71), ('2016-06', 71), ('2016-10', 71), ('2016-11', 71), ('2016-12', 71), ('2016-12', 71), ('2017-01', 71), ('2017-01', 71), ('2017-01', 71), ('2017-02', 71), ('2017-02', 71), ('2017-02', 71), ('2016-03', 70), ('2016-03', 70), ('2016-04', 70), ('2016-05', 70), ('2016-05', 70), ('2016-05', 70), ('2016-06', 70), ('2016-11', 70), ('2016-12', 70), ('2016-12', 70), ('2016-12', 70), ('2016-12', 70), ('2017-01', 70), ('2017-01', 70), ('2017-01', 70), ('2017-01', 70), ('2017-01', 70), ('2017-02', 70), ('2017-02', 70), ('2017-02', 70), ('2017-02', 70), ('2017-02', 70), ('2016-02', 69), ('2016-04', 69), ('2016-05', 69), ('2016-05', 69), ('2016-06', 69), ('2016-12', 69), ('2016-12', 69), ('2016-12', 69), ('2016-12', 69), ('2016-12', 69), ('2017-01', 69), ('2017-01', 69), ('2017-01', 69), ('2017-01', 69), ('2017-01', 69), ('2017-02', 69), ('2016-03', 68), ('2016-03', 68), ('2016-03', 68), ('2016-03', 68), ('2016-03', 68), ('2016-03', 68), ('2016-04', 68), ('2016-04', 68), ('2016-04', 68), ('2016-05', 68), ('2016-05', 68), ('2016-05', 68), ('2016-05', 68), ('2016-06', 68), ('2016-11', 68), ('2016-12', 68), ('2016-12', 68), ('2017-01', 68), ('2017-01', 68), ('2017-02', 68), ('2017-02', 68), ('2016-03', 67), ('2016-04', 67), ('2016-05', 67), ('2016-05', 67), ('2016-06', 67), ('2016-11', 67), ('2016-12', 67), ('2016-12', 67), ('2016-12', 67), ('2017-02', 67), ('2016-03', 66), ('2016-03', 66), ('2016-05', 66), ('2016-12', 66), ('2017-01', 66), ('2016-03', 65), ('2016-03', 65), ('2016-04', 65), ('2016-04', 65), ('2016-05', 65), ('2016-06', 65), ('2016-12', 65), ('2017-01', 65), ('2017-01', 65), ('2017-02', 65), ('2017-02', 65), ('2016-03', 64), ('2017-01', 64), ('2017-02', 64), ('2016-03', 63), ('2016-03', 63), ('2016-03', 63), ('2016-11', 63), ('2017-01', 63), ('2017-01', 63), ('2017-01', 63), ('2016-03', 62), ('2016-03', 62), ('2016-12', 62), ('2017-01', 62), ('2017-01', 62), ('2017-01', 62), ('2017-02', 62), ('2017-02', 61), ('2017-02', 60), ('2017-02', 59), ('2017-02', 59), ('2017-02', 59)]\n"
     ]
    }
   ],
   "source": [
    "#Design a query to retrieve the last 12 months of temperature observation data (tobs).\n",
    "#   * Filter by the station with the highest number of observations.\n",
    "#   * Plot the results as a histogram with `bins=12`.\n",
    "hist_raw = session.query(func.strftime(\"%Y-%m\", Measurement.date), Measurement.tobs).\\\n",
    "    filter(Measurement.date <= '2017-03-01' ).\\\n",
    "    filter(Measurement.date >= '2016-02-28').\\\n",
    "    filter(Measurement.station == 'USC00519281' ).\\\n",
    "    order_by(Measurement.tobs.desc()).all()\n",
    "print(hist_raw)"
   ]
  },
  {
   "cell_type": "code",
   "execution_count": 15,
   "metadata": {
    "collapsed": true
   },
   "outputs": [],
   "source": [
    "import matplotlib.pyplot as plt"
   ]
  },
  {
   "cell_type": "code",
   "execution_count": 16,
   "metadata": {},
   "outputs": [
    {
     "data": {
      "text/plain": [
       "([array([63., 92., 92., 92., 28.,  0.,  0.,  0.,  0.,  0.,  0.,  0.]),\n",
       "  array([ 0.,  0.,  0.,  0.,  4., 15., 19., 47., 67., 94., 76., 45.])],\n",
       " array([ 0.,  3.,  6.,  9., 12., 15., 18., 21., 24., 27., 30., 33., 36.]),\n",
       " <a list of 2 Lists of Patches objects>)"
      ]
     },
     "execution_count": 16,
     "metadata": {},
     "output_type": "execute_result"
    },
    {
     "data": {
      "image/png": "[encoded data removed]",
      "text/plain": [
       "<matplotlib.figure.Figure at 0x1f8fc12ec18>"
      ]
     },
     "metadata": {},
     "output_type": "display_data"
    }
   ],
   "source": [
    "plt.hist(hist_raw, bins=12)"
   ]
  },
  {
   "cell_type": "markdown",
   "metadata": {
    "collapsed": true
   },
   "source": [
    "### Temperature Analysis"
   ]
  },
  {
   "cell_type": "code",
   "execution_count": 27,
   "metadata": {},
   "outputs": [],
   "source": [
    "def min_max_avg(start_date, end_date):\n",
    "    data = session.query(func.min(Measurement.tobs), func.max(Measurement.tobs), func.avg(Measurement.tobs)).\\\n",
    "    filter(Measurement.date <= end_date ).\\\n",
    "    filter(Measurement.date >= start_date).all()\n",
    "    return f'min:{data[0][0]}, max:{data[0][1]}, avg:{data[0][2]} '\n"
   ]
  },
  {
   "cell_type": "code",
   "execution_count": 28,
   "metadata": {},
   "outputs": [
    {
     "data": {
      "text/plain": [
       "'min:59, max:84, avg:74.14365832614322 '"
      ]
     },
     "execution_count": 28,
     "metadata": {},
     "output_type": "execute_result"
    }
   ],
   "source": [
    "min_max_avg('2016-02-28', '2017-03-01')"
   ]
  },
  {
   "cell_type": "code",
   "execution_count": null,
   "metadata": {
    "collapsed": true
   },
   "outputs": [],
   "source": []
  }
 ],
 "metadata": {
  "kernelspec": {
   "display_name": "Python [conda env:PythonData]",
   "language": "python",
   "name": "conda-env-PythonData-py"
  },
  "language_info": {
   "codemirror_mode": {
    "name": "ipython",
    "version": 3
   },
   "file_extension": ".py",
   "mimetype": "text/x-python",
   "name": "python",
   "nbconvert_exporter": "python",
   "pygments_lexer": "ipython3",
   "version": "3.6.4"
  }
 },
 "nbformat": 4,
 "nbformat_minor": 2
}
